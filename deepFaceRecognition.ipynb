{
 "cells": [
  {
   "cell_type": "markdown",
   "metadata": {},
   "source": [
    "# Installation and dependencies"
   ]
  },
  {
   "cell_type": "code",
   "execution_count": 6,
   "metadata": {},
   "outputs": [
    {
     "name": "stdout",
     "output_type": "stream",
     "text": [
      "Requirement already satisfied: tensorflow==2.14.1 in /Users/mlc/miniconda3/envs/DeepFacialRecognition/lib/python3.10/site-packages (2.14.1)\n",
      "Requirement already satisfied: opencv-python in /Users/mlc/miniconda3/envs/DeepFacialRecognition/lib/python3.10/site-packages (4.9.0.80)\n",
      "Requirement already satisfied: matplotlib in /Users/mlc/miniconda3/envs/DeepFacialRecognition/lib/python3.10/site-packages (3.8.2)\n",
      "Requirement already satisfied: tensorflow-macos==2.14.1 in /Users/mlc/miniconda3/envs/DeepFacialRecognition/lib/python3.10/site-packages (from tensorflow==2.14.1) (2.14.1)\n",
      "Requirement already satisfied: absl-py>=1.0.0 in /Users/mlc/miniconda3/envs/DeepFacialRecognition/lib/python3.10/site-packages (from tensorflow-macos==2.14.1->tensorflow==2.14.1) (2.1.0)\n",
      "Requirement already satisfied: astunparse>=1.6.0 in /Users/mlc/miniconda3/envs/DeepFacialRecognition/lib/python3.10/site-packages (from tensorflow-macos==2.14.1->tensorflow==2.14.1) (1.6.3)\n",
      "Requirement already satisfied: flatbuffers>=23.5.26 in /Users/mlc/miniconda3/envs/DeepFacialRecognition/lib/python3.10/site-packages (from tensorflow-macos==2.14.1->tensorflow==2.14.1) (23.5.26)\n",
      "Requirement already satisfied: gast!=0.5.0,!=0.5.1,!=0.5.2,>=0.2.1 in /Users/mlc/miniconda3/envs/DeepFacialRecognition/lib/python3.10/site-packages (from tensorflow-macos==2.14.1->tensorflow==2.14.1) (0.5.4)\n",
      "Requirement already satisfied: google-pasta>=0.1.1 in /Users/mlc/miniconda3/envs/DeepFacialRecognition/lib/python3.10/site-packages (from tensorflow-macos==2.14.1->tensorflow==2.14.1) (0.2.0)\n",
      "Requirement already satisfied: h5py>=2.9.0 in /Users/mlc/miniconda3/envs/DeepFacialRecognition/lib/python3.10/site-packages (from tensorflow-macos==2.14.1->tensorflow==2.14.1) (3.10.0)\n",
      "Requirement already satisfied: libclang>=13.0.0 in /Users/mlc/miniconda3/envs/DeepFacialRecognition/lib/python3.10/site-packages (from tensorflow-macos==2.14.1->tensorflow==2.14.1) (16.0.6)\n",
      "Requirement already satisfied: ml-dtypes==0.2.0 in /Users/mlc/miniconda3/envs/DeepFacialRecognition/lib/python3.10/site-packages (from tensorflow-macos==2.14.1->tensorflow==2.14.1) (0.2.0)\n",
      "Requirement already satisfied: numpy<2.0.0,>=1.23.5 in /Users/mlc/miniconda3/envs/DeepFacialRecognition/lib/python3.10/site-packages (from tensorflow-macos==2.14.1->tensorflow==2.14.1) (1.26.3)\n",
      "Requirement already satisfied: opt-einsum>=2.3.2 in /Users/mlc/miniconda3/envs/DeepFacialRecognition/lib/python3.10/site-packages (from tensorflow-macos==2.14.1->tensorflow==2.14.1) (3.3.0)\n",
      "Requirement already satisfied: packaging in /Users/mlc/miniconda3/envs/DeepFacialRecognition/lib/python3.10/site-packages (from tensorflow-macos==2.14.1->tensorflow==2.14.1) (23.2)\n",
      "Requirement already satisfied: protobuf!=4.21.0,!=4.21.1,!=4.21.2,!=4.21.3,!=4.21.4,!=4.21.5,<5.0.0dev,>=3.20.3 in /Users/mlc/miniconda3/envs/DeepFacialRecognition/lib/python3.10/site-packages (from tensorflow-macos==2.14.1->tensorflow==2.14.1) (4.25.2)\n",
      "Requirement already satisfied: setuptools in /Users/mlc/miniconda3/envs/DeepFacialRecognition/lib/python3.10/site-packages (from tensorflow-macos==2.14.1->tensorflow==2.14.1) (68.2.2)\n",
      "Requirement already satisfied: six>=1.12.0 in /Users/mlc/miniconda3/envs/DeepFacialRecognition/lib/python3.10/site-packages (from tensorflow-macos==2.14.1->tensorflow==2.14.1) (1.16.0)\n",
      "Requirement already satisfied: termcolor>=1.1.0 in /Users/mlc/miniconda3/envs/DeepFacialRecognition/lib/python3.10/site-packages (from tensorflow-macos==2.14.1->tensorflow==2.14.1) (2.4.0)\n",
      "Requirement already satisfied: typing-extensions>=3.6.6 in /Users/mlc/miniconda3/envs/DeepFacialRecognition/lib/python3.10/site-packages (from tensorflow-macos==2.14.1->tensorflow==2.14.1) (4.9.0)\n",
      "Requirement already satisfied: wrapt<1.15,>=1.11.0 in /Users/mlc/miniconda3/envs/DeepFacialRecognition/lib/python3.10/site-packages (from tensorflow-macos==2.14.1->tensorflow==2.14.1) (1.14.1)\n",
      "Requirement already satisfied: tensorflow-io-gcs-filesystem>=0.23.1 in /Users/mlc/miniconda3/envs/DeepFacialRecognition/lib/python3.10/site-packages (from tensorflow-macos==2.14.1->tensorflow==2.14.1) (0.34.0)\n",
      "Requirement already satisfied: grpcio<2.0,>=1.24.3 in /Users/mlc/miniconda3/envs/DeepFacialRecognition/lib/python3.10/site-packages (from tensorflow-macos==2.14.1->tensorflow==2.14.1) (1.60.0)\n",
      "Requirement already satisfied: tensorboard<2.15,>=2.14 in /Users/mlc/miniconda3/envs/DeepFacialRecognition/lib/python3.10/site-packages (from tensorflow-macos==2.14.1->tensorflow==2.14.1) (2.14.1)\n",
      "Requirement already satisfied: tensorflow-estimator<2.15,>=2.14.0 in /Users/mlc/miniconda3/envs/DeepFacialRecognition/lib/python3.10/site-packages (from tensorflow-macos==2.14.1->tensorflow==2.14.1) (2.14.0)\n",
      "Requirement already satisfied: keras<2.15,>=2.14.0 in /Users/mlc/miniconda3/envs/DeepFacialRecognition/lib/python3.10/site-packages (from tensorflow-macos==2.14.1->tensorflow==2.14.1) (2.14.0)\n",
      "Requirement already satisfied: contourpy>=1.0.1 in /Users/mlc/miniconda3/envs/DeepFacialRecognition/lib/python3.10/site-packages (from matplotlib) (1.2.0)\n",
      "Requirement already satisfied: cycler>=0.10 in /Users/mlc/miniconda3/envs/DeepFacialRecognition/lib/python3.10/site-packages (from matplotlib) (0.12.1)\n",
      "Requirement already satisfied: fonttools>=4.22.0 in /Users/mlc/miniconda3/envs/DeepFacialRecognition/lib/python3.10/site-packages (from matplotlib) (4.47.2)\n",
      "Requirement already satisfied: kiwisolver>=1.3.1 in /Users/mlc/miniconda3/envs/DeepFacialRecognition/lib/python3.10/site-packages (from matplotlib) (1.4.5)\n",
      "Requirement already satisfied: pillow>=8 in /Users/mlc/miniconda3/envs/DeepFacialRecognition/lib/python3.10/site-packages (from matplotlib) (10.2.0)\n",
      "Requirement already satisfied: pyparsing>=2.3.1 in /Users/mlc/miniconda3/envs/DeepFacialRecognition/lib/python3.10/site-packages (from matplotlib) (3.1.1)\n",
      "Requirement already satisfied: python-dateutil>=2.7 in /Users/mlc/miniconda3/envs/DeepFacialRecognition/lib/python3.10/site-packages (from matplotlib) (2.8.2)\n",
      "Requirement already satisfied: wheel<1.0,>=0.23.0 in /Users/mlc/miniconda3/envs/DeepFacialRecognition/lib/python3.10/site-packages (from astunparse>=1.6.0->tensorflow-macos==2.14.1->tensorflow==2.14.1) (0.41.2)\n",
      "Requirement already satisfied: google-auth<3,>=1.6.3 in /Users/mlc/miniconda3/envs/DeepFacialRecognition/lib/python3.10/site-packages (from tensorboard<2.15,>=2.14->tensorflow-macos==2.14.1->tensorflow==2.14.1) (2.27.0)\n",
      "Requirement already satisfied: google-auth-oauthlib<1.1,>=0.5 in /Users/mlc/miniconda3/envs/DeepFacialRecognition/lib/python3.10/site-packages (from tensorboard<2.15,>=2.14->tensorflow-macos==2.14.1->tensorflow==2.14.1) (1.0.0)\n",
      "Requirement already satisfied: markdown>=2.6.8 in /Users/mlc/miniconda3/envs/DeepFacialRecognition/lib/python3.10/site-packages (from tensorboard<2.15,>=2.14->tensorflow-macos==2.14.1->tensorflow==2.14.1) (3.5.2)\n",
      "Requirement already satisfied: requests<3,>=2.21.0 in /Users/mlc/miniconda3/envs/DeepFacialRecognition/lib/python3.10/site-packages (from tensorboard<2.15,>=2.14->tensorflow-macos==2.14.1->tensorflow==2.14.1) (2.31.0)\n",
      "Requirement already satisfied: tensorboard-data-server<0.8.0,>=0.7.0 in /Users/mlc/miniconda3/envs/DeepFacialRecognition/lib/python3.10/site-packages (from tensorboard<2.15,>=2.14->tensorflow-macos==2.14.1->tensorflow==2.14.1) (0.7.2)\n",
      "Requirement already satisfied: werkzeug>=1.0.1 in /Users/mlc/miniconda3/envs/DeepFacialRecognition/lib/python3.10/site-packages (from tensorboard<2.15,>=2.14->tensorflow-macos==2.14.1->tensorflow==2.14.1) (3.0.1)\n",
      "Requirement already satisfied: cachetools<6.0,>=2.0.0 in /Users/mlc/miniconda3/envs/DeepFacialRecognition/lib/python3.10/site-packages (from google-auth<3,>=1.6.3->tensorboard<2.15,>=2.14->tensorflow-macos==2.14.1->tensorflow==2.14.1) (5.3.2)\n",
      "Requirement already satisfied: pyasn1-modules>=0.2.1 in /Users/mlc/miniconda3/envs/DeepFacialRecognition/lib/python3.10/site-packages (from google-auth<3,>=1.6.3->tensorboard<2.15,>=2.14->tensorflow-macos==2.14.1->tensorflow==2.14.1) (0.3.0)\n",
      "Requirement already satisfied: rsa<5,>=3.1.4 in /Users/mlc/miniconda3/envs/DeepFacialRecognition/lib/python3.10/site-packages (from google-auth<3,>=1.6.3->tensorboard<2.15,>=2.14->tensorflow-macos==2.14.1->tensorflow==2.14.1) (4.9)\n",
      "Requirement already satisfied: requests-oauthlib>=0.7.0 in /Users/mlc/miniconda3/envs/DeepFacialRecognition/lib/python3.10/site-packages (from google-auth-oauthlib<1.1,>=0.5->tensorboard<2.15,>=2.14->tensorflow-macos==2.14.1->tensorflow==2.14.1) (1.3.1)\n",
      "Requirement already satisfied: charset-normalizer<4,>=2 in /Users/mlc/miniconda3/envs/DeepFacialRecognition/lib/python3.10/site-packages (from requests<3,>=2.21.0->tensorboard<2.15,>=2.14->tensorflow-macos==2.14.1->tensorflow==2.14.1) (3.3.2)\n",
      "Requirement already satisfied: idna<4,>=2.5 in /Users/mlc/miniconda3/envs/DeepFacialRecognition/lib/python3.10/site-packages (from requests<3,>=2.21.0->tensorboard<2.15,>=2.14->tensorflow-macos==2.14.1->tensorflow==2.14.1) (3.6)\n",
      "Requirement already satisfied: urllib3<3,>=1.21.1 in /Users/mlc/miniconda3/envs/DeepFacialRecognition/lib/python3.10/site-packages (from requests<3,>=2.21.0->tensorboard<2.15,>=2.14->tensorflow-macos==2.14.1->tensorflow==2.14.1) (2.2.0)\n",
      "Requirement already satisfied: certifi>=2017.4.17 in /Users/mlc/miniconda3/envs/DeepFacialRecognition/lib/python3.10/site-packages (from requests<3,>=2.21.0->tensorboard<2.15,>=2.14->tensorflow-macos==2.14.1->tensorflow==2.14.1) (2023.11.17)\n",
      "Requirement already satisfied: MarkupSafe>=2.1.1 in /Users/mlc/miniconda3/envs/DeepFacialRecognition/lib/python3.10/site-packages (from werkzeug>=1.0.1->tensorboard<2.15,>=2.14->tensorflow-macos==2.14.1->tensorflow==2.14.1) (2.1.4)\n",
      "Requirement already satisfied: pyasn1<0.6.0,>=0.4.6 in /Users/mlc/miniconda3/envs/DeepFacialRecognition/lib/python3.10/site-packages (from pyasn1-modules>=0.2.1->google-auth<3,>=1.6.3->tensorboard<2.15,>=2.14->tensorflow-macos==2.14.1->tensorflow==2.14.1) (0.5.1)\n",
      "Requirement already satisfied: oauthlib>=3.0.0 in /Users/mlc/miniconda3/envs/DeepFacialRecognition/lib/python3.10/site-packages (from requests-oauthlib>=0.7.0->google-auth-oauthlib<1.1,>=0.5->tensorboard<2.15,>=2.14->tensorflow-macos==2.14.1->tensorflow==2.14.1) (3.2.2)\n",
      "Note: you may need to restart the kernel to use updated packages.\n"
     ]
    }
   ],
   "source": [
    "%pip install tensorflow==2.14.1 opencv-python matplotlib"
   ]
  },
  {
   "cell_type": "code",
   "execution_count": 7,
   "metadata": {},
   "outputs": [],
   "source": [
    "# Standard dependencies\n",
    "import cv2\n",
    "import os\n",
    "import random\n",
    "import numpy as np\n",
    "import matplotlib.pyplot as plt"
   ]
  },
  {
   "cell_type": "code",
   "execution_count": 15,
   "metadata": {},
   "outputs": [],
   "source": [
    "# Tensorflow dependencies\n",
    "from tensorflow.keras.models import Model\n",
    "from tensorflow.keras.layers import Layer, Conv2D, Dense, MaxPooling2D, Input, Flatten\n",
    "import tensorflow as tf"
   ]
  },
  {
   "cell_type": "markdown",
   "metadata": {},
   "source": [
    "# Creating data directories"
   ]
  },
  {
   "cell_type": "code",
   "execution_count": 19,
   "metadata": {},
   "outputs": [],
   "source": [
    "# Setting up dirs\n",
    "POS_DIR = os.path.join(\"data\", \"positive\")\n",
    "NEG_DIR = os.path.join(\"data\", \"negative\")\n",
    "ANC_DIR = os.path.join(\"data\", \"anchor\")\n",
    "\n",
    "# Creating dirs\n",
    "os.makedirs(POS_DIR)\n",
    "os.makedirs(NEG_DIR)\n",
    "os.makedirs(ANC_DIR)"
   ]
  },
  {
   "cell_type": "code",
   "execution_count": null,
   "metadata": {},
   "outputs": [],
   "source": []
  }
 ],
 "metadata": {
  "kernelspec": {
   "display_name": "FacialRecognition",
   "language": "python",
   "name": "python3"
  },
  "language_info": {
   "codemirror_mode": {
    "name": "ipython",
    "version": 3
   },
   "file_extension": ".py",
   "mimetype": "text/x-python",
   "name": "python",
   "nbconvert_exporter": "python",
   "pygments_lexer": "ipython3",
   "version": "3.10.13"
  }
 },
 "nbformat": 4,
 "nbformat_minor": 2
}
